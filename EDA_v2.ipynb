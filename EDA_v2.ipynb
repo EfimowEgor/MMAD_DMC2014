{
 "cells": [
  {
   "cell_type": "code",
   "execution_count": 311,
   "metadata": {},
   "outputs": [],
   "source": [
    "import sys\n",
    "import numpy as np\n",
    "from scipy.stats import mode\n",
    "import pandas as pd\n",
    "import datetime as dt\n",
    "import matplotlib.pyplot as plt\n",
    "from matplotlib import colors\n",
    "import seaborn as sns\n",
    "from sklearn.decomposition import PCA\n",
    "from sklearn.preprocessing import StandardScaler, MinMaxScaler, OneHotEncoder, LabelEncoder\n",
    "sys.path.append('./utils')"
   ]
  },
  {
   "cell_type": "code",
   "execution_count": 312,
   "metadata": {},
   "outputs": [],
   "source": [
    "import consts_"
   ]
  },
  {
   "attachments": {},
   "cell_type": "markdown",
   "metadata": {},
   "source": [
    "### Загрузка данных. Удаление ненужного столбца."
   ]
  },
  {
   "cell_type": "code",
   "execution_count": 313,
   "metadata": {},
   "outputs": [
    {
     "data": {
      "text/html": [
       "<div>\n",
       "<style scoped>\n",
       "    .dataframe tbody tr th:only-of-type {\n",
       "        vertical-align: middle;\n",
       "    }\n",
       "\n",
       "    .dataframe tbody tr th {\n",
       "        vertical-align: top;\n",
       "    }\n",
       "\n",
       "    .dataframe thead th {\n",
       "        text-align: right;\n",
       "    }\n",
       "</style>\n",
       "<table border=\"1\" class=\"dataframe\">\n",
       "  <thead>\n",
       "    <tr style=\"text-align: right;\">\n",
       "      <th></th>\n",
       "      <th>orderItemID</th>\n",
       "      <th>orderDate</th>\n",
       "      <th>deliveryDate</th>\n",
       "      <th>itemID</th>\n",
       "      <th>size</th>\n",
       "      <th>color</th>\n",
       "      <th>manufacturerID</th>\n",
       "      <th>price</th>\n",
       "      <th>customerID</th>\n",
       "      <th>salutation</th>\n",
       "      <th>dateOfBirth</th>\n",
       "      <th>state</th>\n",
       "      <th>creationDate</th>\n",
       "      <th>returnShipment</th>\n",
       "    </tr>\n",
       "  </thead>\n",
       "  <tbody>\n",
       "    <tr>\n",
       "      <th>0</th>\n",
       "      <td>96218</td>\n",
       "      <td>2012-06-19</td>\n",
       "      <td>2012-06-21</td>\n",
       "      <td>182</td>\n",
       "      <td>38</td>\n",
       "      <td>red</td>\n",
       "      <td>17</td>\n",
       "      <td>109.9</td>\n",
       "      <td>21163</td>\n",
       "      <td>Mrs</td>\n",
       "      <td>1967-03-25</td>\n",
       "      <td>Baden-Wuerttemberg</td>\n",
       "      <td>2012-06-19</td>\n",
       "      <td>1</td>\n",
       "    </tr>\n",
       "    <tr>\n",
       "      <th>1</th>\n",
       "      <td>96219</td>\n",
       "      <td>2012-06-19</td>\n",
       "      <td>2012-06-21</td>\n",
       "      <td>557</td>\n",
       "      <td>38</td>\n",
       "      <td>red</td>\n",
       "      <td>1</td>\n",
       "      <td>129.9</td>\n",
       "      <td>21163</td>\n",
       "      <td>Mrs</td>\n",
       "      <td>1967-03-25</td>\n",
       "      <td>Baden-Wuerttemberg</td>\n",
       "      <td>2012-06-19</td>\n",
       "      <td>1</td>\n",
       "    </tr>\n",
       "    <tr>\n",
       "      <th>2</th>\n",
       "      <td>96220</td>\n",
       "      <td>2012-06-19</td>\n",
       "      <td>2012-06-21</td>\n",
       "      <td>90</td>\n",
       "      <td>38</td>\n",
       "      <td>red</td>\n",
       "      <td>24</td>\n",
       "      <td>69.9</td>\n",
       "      <td>21163</td>\n",
       "      <td>Mrs</td>\n",
       "      <td>1967-03-25</td>\n",
       "      <td>Baden-Wuerttemberg</td>\n",
       "      <td>2012-06-19</td>\n",
       "      <td>0</td>\n",
       "    </tr>\n",
       "    <tr>\n",
       "      <th>3</th>\n",
       "      <td>96221</td>\n",
       "      <td>2012-06-19</td>\n",
       "      <td>2012-06-21</td>\n",
       "      <td>1</td>\n",
       "      <td>38</td>\n",
       "      <td>red</td>\n",
       "      <td>1</td>\n",
       "      <td>119.9</td>\n",
       "      <td>21163</td>\n",
       "      <td>Mrs</td>\n",
       "      <td>1967-03-25</td>\n",
       "      <td>Baden-Wuerttemberg</td>\n",
       "      <td>2012-06-19</td>\n",
       "      <td>1</td>\n",
       "    </tr>\n",
       "    <tr>\n",
       "      <th>4</th>\n",
       "      <td>96222</td>\n",
       "      <td>2012-06-19</td>\n",
       "      <td>2012-06-21</td>\n",
       "      <td>1</td>\n",
       "      <td>37+</td>\n",
       "      <td>red</td>\n",
       "      <td>1</td>\n",
       "      <td>119.9</td>\n",
       "      <td>21163</td>\n",
       "      <td>Mrs</td>\n",
       "      <td>1967-03-25</td>\n",
       "      <td>Baden-Wuerttemberg</td>\n",
       "      <td>2012-06-19</td>\n",
       "      <td>1</td>\n",
       "    </tr>\n",
       "  </tbody>\n",
       "</table>\n",
       "</div>"
      ],
      "text/plain": [
       "   orderItemID   orderDate deliveryDate  itemID size color  manufacturerID   \n",
       "0        96218  2012-06-19   2012-06-21     182   38   red              17  \\\n",
       "1        96219  2012-06-19   2012-06-21     557   38   red               1   \n",
       "2        96220  2012-06-19   2012-06-21      90   38   red              24   \n",
       "3        96221  2012-06-19   2012-06-21       1   38   red               1   \n",
       "4        96222  2012-06-19   2012-06-21       1  37+   red               1   \n",
       "\n",
       "   price  customerID salutation dateOfBirth               state creationDate   \n",
       "0  109.9       21163        Mrs  1967-03-25  Baden-Wuerttemberg   2012-06-19  \\\n",
       "1  129.9       21163        Mrs  1967-03-25  Baden-Wuerttemberg   2012-06-19   \n",
       "2   69.9       21163        Mrs  1967-03-25  Baden-Wuerttemberg   2012-06-19   \n",
       "3  119.9       21163        Mrs  1967-03-25  Baden-Wuerttemberg   2012-06-19   \n",
       "4  119.9       21163        Mrs  1967-03-25  Baden-Wuerttemberg   2012-06-19   \n",
       "\n",
       "   returnShipment  \n",
       "0               1  \n",
       "1               1  \n",
       "2               0  \n",
       "3               1  \n",
       "4               1  "
      ]
     },
     "execution_count": 313,
     "metadata": {},
     "output_type": "execute_result"
    }
   ],
   "source": [
    "df = pd.read_csv('data/train.csv')\n",
    "df.drop('Unnamed: 0', axis=1, inplace=True)\n",
    "df.head()"
   ]
  },
  {
   "attachments": {},
   "cell_type": "markdown",
   "metadata": {},
   "source": [
    "### Поиск пропусков в данных."
   ]
  },
  {
   "cell_type": "code",
   "execution_count": 314,
   "metadata": {},
   "outputs": [
    {
     "name": "stdout",
     "output_type": "stream",
     "text": [
      "orderItemID     False  0\n",
      "orderDate       False  0\n",
      "deliveryDate    True   29848\n",
      "itemID          False  0\n",
      "size            False  0\n",
      "color           True   143\n",
      "manufacturerID  False  0\n",
      "price           False  0\n",
      "customerID      False  0\n",
      "salutation      False  0\n",
      "dateOfBirth     True   39675\n",
      "state           False  0\n",
      "creationDate    False  0\n",
      "returnShipment  False  0\n"
     ]
    }
   ],
   "source": [
    "df.replace('?', np.nan, inplace=True)\n",
    "has_null = df.isna().any()\n",
    "is_null = df.isna().sum()\n",
    "for col in df.columns:\n",
    "    print(f\"{col:<15} {'True ' if has_null[col] else 'False'}  {is_null[col]}\")"
   ]
  },
  {
   "cell_type": "code",
   "execution_count": 315,
   "metadata": {},
   "outputs": [],
   "source": [
    "# Приведение столбцов с датами к дате\n",
    "df['orderDate'] = pd.to_datetime(df['orderDate'], format='%Y-%m-%d', errors='coerce')\n",
    "df['deliveryDate'] = pd.to_datetime(df['deliveryDate'], format='%Y-%m-%d', errors='coerce')\n",
    "df['dateOfBirth'] = pd.to_datetime(df['dateOfBirth'], format='%Y-%m-%d', errors='coerce')\n",
    "df['creationDate'] = pd.to_datetime(df['creationDate'], format='%Y-%m-%d', errors='coerce')\n",
    "# Вставка моды в пропуски цвета\n",
    "df['color'] = df['color'].fillna(df['color'].mode()[0])"
   ]
  },
  {
   "cell_type": "code",
   "execution_count": 316,
   "metadata": {},
   "outputs": [],
   "source": [
    "# Убираем оставшиеся пропуски\n",
    "df['deliveryDate'] = df['deliveryDate'].fillna(df['deliveryDate'].median())\n",
    "df['dateOfBirth'] = df['dateOfBirth'].fillna(df['dateOfBirth'].median())"
   ]
  },
  {
   "attachments": {},
   "cell_type": "markdown",
   "metadata": {},
   "source": [
    "Поправка. Дата рождения будет заполнена медианой, потому что похуй, после этого посмотреть есть ли кто-то, кто живёт аномально долго. Если такие есть - вырезать. ✓"
   ]
  },
  {
   "attachments": {},
   "cell_type": "markdown",
   "metadata": {},
   "source": [
    "С датой отправки и доставки всё просто. Заполнить медианным значением и удалить те строки, где доставлено раньше чем заказано."
   ]
  },
  {
   "attachments": {},
   "cell_type": "markdown",
   "metadata": {},
   "source": [
    "### МММ хуета - строим графики в очередной раз"
   ]
  },
  {
   "cell_type": "code",
   "execution_count": 317,
   "metadata": {},
   "outputs": [
    {
     "data": {
      "text/plain": [
       "<seaborn.axisgrid.FacetGrid at 0x1f39c957940>"
      ]
     },
     "execution_count": 317,
     "metadata": {},
     "output_type": "execute_result"
    },
    {
     "data": {
      "image/png": "[encoded data removed]",
      "text/plain": [
       "<Figure size 500x500 with 1 Axes>"
      ]
     },
     "metadata": {},
     "output_type": "display_data"
    }
   ],
   "source": [
    "sns.displot(df['dateOfBirth'].dt.year)\n",
    "# steam moment"
   ]
  },
  {
   "cell_type": "code",
   "execution_count": 318,
   "metadata": {},
   "outputs": [
    {
     "data": {
      "text/plain": [
       "<seaborn.axisgrid.FacetGrid at 0x1f3cbf1cdf0>"
      ]
     },
     "execution_count": 318,
     "metadata": {},
     "output_type": "execute_result"
    },
    {
     "data": {
      "image/png": "[encoded data removed]",
      "text/plain": [
       "<Figure size 500x500 with 1 Axes>"
      ]
     },
     "metadata": {},
     "output_type": "display_data"
    }
   ],
   "source": [
    "df = df.loc[df['dateOfBirth'].dt.year > 1920]\n",
    "sns.displot(df['dateOfBirth'].dt.year)"
   ]
  },
  {
   "cell_type": "code",
   "execution_count": 319,
   "metadata": {},
   "outputs": [],
   "source": [
    "df['ageHuman'] = ((dt.datetime.now() - df['dateOfBirth']).dt.days / 365).astype(int)\n",
    "df['ageAccount'] = ((dt.datetime.now() - df['creationDate']).dt.days / 365).astype(int)"
   ]
  },
  {
   "cell_type": "code",
   "execution_count": 320,
   "metadata": {},
   "outputs": [],
   "source": [
    "df_0 = df.loc[df['returnShipment'] == 0]\n",
    "df_1 = df.loc[df['returnShipment'] == 1]"
   ]
  },
  {
   "cell_type": "code",
   "execution_count": 321,
   "metadata": {},
   "outputs": [
    {
     "data": {
      "text/plain": [
       "<matplotlib.legend.Legend at 0x1f3d70350f0>"
      ]
     },
     "execution_count": 321,
     "metadata": {},
     "output_type": "execute_result"
    },
    {
     "data": {
      "image/png": "[encoded data removed]",
      "text/plain": [
       "<Figure size 640x480 with 1 Axes>"
      ]
     },
     "metadata": {},
     "output_type": "display_data"
    }
   ],
   "source": [
    "plt.hist(df_0['ageHuman'], bins=100, label='not returned')\n",
    "plt.hist(df_1['ageHuman'], bins=100, label='returned', alpha=0.5)\n",
    "plt.legend()"
   ]
  },
  {
   "cell_type": "code",
   "execution_count": 322,
   "metadata": {},
   "outputs": [
    {
     "data": {
      "image/png": "[encoded data removed]",
      "text/plain": [
       "<Figure size 640x480 with 1 Axes>"
      ]
     },
     "metadata": {},
     "output_type": "display_data"
    }
   ],
   "source": [
    "sns.lineplot(df.groupby('orderDate')['customerID'].count())\n",
    "plt.xticks(rotation = 90);"
   ]
  },
  {
   "cell_type": "code",
   "execution_count": 323,
   "metadata": {},
   "outputs": [
    {
     "data": {
      "image/png": "[encoded data removed]",
      "text/plain": [
       "<Figure size 640x480 with 1 Axes>"
      ]
     },
     "metadata": {},
     "output_type": "display_data"
    }
   ],
   "source": [
    "plt.plot(df.groupby('customerID').count());"
   ]
  },
  {
   "cell_type": "code",
   "execution_count": 324,
   "metadata": {},
   "outputs": [
    {
     "data": {
      "image/png": "[encoded data removed]",
      "text/plain": [
       "<Figure size 640x480 with 1 Axes>"
      ]
     },
     "metadata": {},
     "output_type": "display_data"
    }
   ],
   "source": [
    "plt.plot(df.groupby('customerID')['returnShipment'].sum())\n",
    "plt.plot(df.groupby('customerID')['returnShipment'].count(), alpha=0.4);"
   ]
  },
  {
   "cell_type": "code",
   "execution_count": 325,
   "metadata": {},
   "outputs": [
    {
     "name": "stdout",
     "output_type": "stream",
     "text": [
      "58.0\n"
     ]
    },
    {
     "data": {
      "image/png": "[encoded data removed]",
      "text/plain": [
       "<Figure size 640x480 with 1 Axes>"
      ]
     },
     "metadata": {},
     "output_type": "display_data"
    }
   ],
   "source": [
    "plt.hist(df['ageHuman'], bins=60);\n",
    "print(df['ageHuman'].median())"
   ]
  },
  {
   "attachments": {},
   "cell_type": "markdown",
   "metadata": {},
   "source": [
    "### ГруппировОчка"
   ]
  },
  {
   "cell_type": "code",
   "execution_count": 326,
   "metadata": {},
   "outputs": [
    {
     "data": {
      "text/html": [
       "<div>\n",
       "<style scoped>\n",
       "    .dataframe tbody tr th:only-of-type {\n",
       "        vertical-align: middle;\n",
       "    }\n",
       "\n",
       "    .dataframe tbody tr th {\n",
       "        vertical-align: top;\n",
       "    }\n",
       "\n",
       "    .dataframe thead th {\n",
       "        text-align: right;\n",
       "    }\n",
       "</style>\n",
       "<table border=\"1\" class=\"dataframe\">\n",
       "  <thead>\n",
       "    <tr style=\"text-align: right;\">\n",
       "      <th></th>\n",
       "      <th>mean</th>\n",
       "      <th>median</th>\n",
       "      <th>min</th>\n",
       "      <th>max</th>\n",
       "      <th>sum</th>\n",
       "    </tr>\n",
       "    <tr>\n",
       "      <th>itemID</th>\n",
       "      <th></th>\n",
       "      <th></th>\n",
       "      <th></th>\n",
       "      <th></th>\n",
       "      <th></th>\n",
       "    </tr>\n",
       "  </thead>\n",
       "  <tbody>\n",
       "    <tr>\n",
       "      <th>1</th>\n",
       "      <td>97.104724</td>\n",
       "      <td>119.90</td>\n",
       "      <td>59.90</td>\n",
       "      <td>119.90</td>\n",
       "      <td>24664.60</td>\n",
       "    </tr>\n",
       "    <tr>\n",
       "      <th>2</th>\n",
       "      <td>22.343820</td>\n",
       "      <td>19.90</td>\n",
       "      <td>19.90</td>\n",
       "      <td>39.90</td>\n",
       "      <td>3977.20</td>\n",
       "    </tr>\n",
       "    <tr>\n",
       "      <th>3</th>\n",
       "      <td>20.122222</td>\n",
       "      <td>19.90</td>\n",
       "      <td>19.90</td>\n",
       "      <td>39.90</td>\n",
       "      <td>1811.00</td>\n",
       "    </tr>\n",
       "    <tr>\n",
       "      <th>4</th>\n",
       "      <td>79.123301</td>\n",
       "      <td>79.90</td>\n",
       "      <td>64.90</td>\n",
       "      <td>129.90</td>\n",
       "      <td>16299.40</td>\n",
       "    </tr>\n",
       "    <tr>\n",
       "      <th>5</th>\n",
       "      <td>40.346429</td>\n",
       "      <td>39.90</td>\n",
       "      <td>34.90</td>\n",
       "      <td>69.90</td>\n",
       "      <td>15815.80</td>\n",
       "    </tr>\n",
       "    <tr>\n",
       "      <th>...</th>\n",
       "      <td>...</td>\n",
       "      <td>...</td>\n",
       "      <td>...</td>\n",
       "      <td>...</td>\n",
       "      <td>...</td>\n",
       "    </tr>\n",
       "    <tr>\n",
       "      <th>3067</th>\n",
       "      <td>59.950000</td>\n",
       "      <td>59.95</td>\n",
       "      <td>59.95</td>\n",
       "      <td>59.95</td>\n",
       "      <td>59.95</td>\n",
       "    </tr>\n",
       "    <tr>\n",
       "      <th>3068</th>\n",
       "      <td>64.950000</td>\n",
       "      <td>64.95</td>\n",
       "      <td>64.95</td>\n",
       "      <td>64.95</td>\n",
       "      <td>129.90</td>\n",
       "    </tr>\n",
       "    <tr>\n",
       "      <th>3069</th>\n",
       "      <td>0.000000</td>\n",
       "      <td>0.00</td>\n",
       "      <td>0.00</td>\n",
       "      <td>0.00</td>\n",
       "      <td>0.00</td>\n",
       "    </tr>\n",
       "    <tr>\n",
       "      <th>3070</th>\n",
       "      <td>57.950000</td>\n",
       "      <td>57.95</td>\n",
       "      <td>57.95</td>\n",
       "      <td>57.95</td>\n",
       "      <td>57.95</td>\n",
       "    </tr>\n",
       "    <tr>\n",
       "      <th>3071</th>\n",
       "      <td>39.900000</td>\n",
       "      <td>39.90</td>\n",
       "      <td>39.90</td>\n",
       "      <td>39.90</td>\n",
       "      <td>39.90</td>\n",
       "    </tr>\n",
       "  </tbody>\n",
       "</table>\n",
       "<p>2851 rows × 5 columns</p>\n",
       "</div>"
      ],
      "text/plain": [
       "             mean  median    min     max       sum\n",
       "itemID                                            \n",
       "1       97.104724  119.90  59.90  119.90  24664.60\n",
       "2       22.343820   19.90  19.90   39.90   3977.20\n",
       "3       20.122222   19.90  19.90   39.90   1811.00\n",
       "4       79.123301   79.90  64.90  129.90  16299.40\n",
       "5       40.346429   39.90  34.90   69.90  15815.80\n",
       "...           ...     ...    ...     ...       ...\n",
       "3067    59.950000   59.95  59.95   59.95     59.95\n",
       "3068    64.950000   64.95  64.95   64.95    129.90\n",
       "3069     0.000000    0.00   0.00    0.00      0.00\n",
       "3070    57.950000   57.95  57.95   57.95     57.95\n",
       "3071    39.900000   39.90  39.90   39.90     39.90\n",
       "\n",
       "[2851 rows x 5 columns]"
      ]
     },
     "execution_count": 326,
     "metadata": {},
     "output_type": "execute_result"
    }
   ],
   "source": [
    "df.groupby('itemID')['price'].agg(['mean', 'median', 'min', 'max', 'sum'])"
   ]
  },
  {
   "attachments": {},
   "cell_type": "markdown",
   "metadata": {},
   "source": [
    "### Обработка цветов"
   ]
  },
  {
   "cell_type": "code",
   "execution_count": 327,
   "metadata": {},
   "outputs": [],
   "source": [
    "def color_to_RGB(x):\n",
    "    try:\n",
    "        x = tuple(colors.to_rgb(consts_.COLORMAP[x.strip()]))\n",
    "    except (ValueError, KeyError):\n",
    "        x = x\n",
    "    return x\n"
   ]
  },
  {
   "cell_type": "code",
   "execution_count": 328,
   "metadata": {},
   "outputs": [],
   "source": [
    "df['color'] = df['color'].apply(lambda x: color_to_RGB(x))"
   ]
  },
  {
   "cell_type": "code",
   "execution_count": 329,
   "metadata": {},
   "outputs": [],
   "source": [
    "df = df[df['color'].apply(lambda x: isinstance(x, tuple))]"
   ]
  },
  {
   "cell_type": "code",
   "execution_count": 330,
   "metadata": {},
   "outputs": [
    {
     "data": {
      "text/plain": [
       "array(['Baden-Wuerttemberg', 'Saxony', 'Lower Saxony', 'Bavaria',\n",
       "       'North Rhine-Westphalia', 'Schleswig-Holstein', 'Hesse',\n",
       "       'Brandenburg', 'Rhineland-Palatinate', 'Hamburg', 'Thuringia',\n",
       "       'Mecklenburg-Western Pomerania', 'Berlin', 'Saxony-Anhalt',\n",
       "       'Bremen', 'Saarland'], dtype=object)"
      ]
     },
     "execution_count": 330,
     "metadata": {},
     "output_type": "execute_result"
    }
   ],
   "source": [
    "df['state'].unique()"
   ]
  },
  {
   "attachments": {},
   "cell_type": "markdown",
   "metadata": {},
   "source": [
    "### Если заказ пришёл в прошлом, значит он не пришёл человеку"
   ]
  },
  {
   "cell_type": "code",
   "execution_count": 331,
   "metadata": {},
   "outputs": [],
   "source": [
    "df = df.loc[df['deliveryDate'] >= df['orderDate']]\n",
    "# Есть какие-то \"полученные товары\", но можно считать, учитывая их количество, что это накрутка\n",
    "# Таким образом данные, где доставлено раньше, чем заказано, можно убрать"
   ]
  },
  {
   "cell_type": "code",
   "execution_count": 332,
   "metadata": {},
   "outputs": [
    {
     "data": {
      "text/plain": [
       "<seaborn.axisgrid.PairGrid at 0x1f3d6ff7a30>"
      ]
     },
     "execution_count": 332,
     "metadata": {},
     "output_type": "execute_result"
    },
    {
     "data": {
      "image/png": "[encoded data removed]",
      "text/plain": [
       "<Figure size 500x500 with 6 Axes>"
      ]
     },
     "metadata": {},
     "output_type": "display_data"
    }
   ],
   "source": [
    "sns.pairplot(df.groupby('itemID')['returnShipment'].value_counts().unstack())"
   ]
  },
  {
   "cell_type": "code",
   "execution_count": 333,
   "metadata": {},
   "outputs": [],
   "source": [
    "df = df.reset_index(drop=True)"
   ]
  },
  {
   "attachments": {},
   "cell_type": "markdown",
   "metadata": {},
   "source": [
    "### OneHot + PCA для размера"
   ]
  },
  {
   "cell_type": "code",
   "execution_count": 334,
   "metadata": {},
   "outputs": [],
   "source": [
    "encoder = OneHotEncoder()\n",
    "encoded_feature = encoder.fit(df[['size']])\n",
    "new_size = encoded_feature.transform(df[['size']])"
   ]
  },
  {
   "cell_type": "code",
   "execution_count": 335,
   "metadata": {},
   "outputs": [],
   "source": [
    "pca = PCA(n_components=10)\n",
    "reduced_features = pca.fit_transform(new_size.toarray())"
   ]
  },
  {
   "cell_type": "code",
   "execution_count": 336,
   "metadata": {},
   "outputs": [
    {
     "data": {
      "text/html": [
       "<div>\n",
       "<style scoped>\n",
       "    .dataframe tbody tr th:only-of-type {\n",
       "        vertical-align: middle;\n",
       "    }\n",
       "\n",
       "    .dataframe tbody tr th {\n",
       "        vertical-align: top;\n",
       "    }\n",
       "\n",
       "    .dataframe thead th {\n",
       "        text-align: right;\n",
       "    }\n",
       "</style>\n",
       "<table border=\"1\" class=\"dataframe\">\n",
       "  <thead>\n",
       "    <tr style=\"text-align: right;\">\n",
       "      <th></th>\n",
       "      <th>reduced_size1</th>\n",
       "      <th>reduced_size2</th>\n",
       "      <th>reduced_size3</th>\n",
       "      <th>reduced_size4</th>\n",
       "      <th>reduced_size5</th>\n",
       "      <th>reduced_size6</th>\n",
       "      <th>reduced_size7</th>\n",
       "      <th>reduced_size8</th>\n",
       "      <th>reduced_size9</th>\n",
       "      <th>reduced_size10</th>\n",
       "    </tr>\n",
       "  </thead>\n",
       "  <tbody>\n",
       "    <tr>\n",
       "      <th>0</th>\n",
       "      <td>-0.030694</td>\n",
       "      <td>-0.067862</td>\n",
       "      <td>-0.021213</td>\n",
       "      <td>-0.093506</td>\n",
       "      <td>-0.024397</td>\n",
       "      <td>-0.009282</td>\n",
       "      <td>0.030591</td>\n",
       "      <td>0.100229</td>\n",
       "      <td>0.829599</td>\n",
       "      <td>-0.436450</td>\n",
       "    </tr>\n",
       "    <tr>\n",
       "      <th>1</th>\n",
       "      <td>-0.030694</td>\n",
       "      <td>-0.067862</td>\n",
       "      <td>-0.021213</td>\n",
       "      <td>-0.093506</td>\n",
       "      <td>-0.024397</td>\n",
       "      <td>-0.009282</td>\n",
       "      <td>0.030591</td>\n",
       "      <td>0.100229</td>\n",
       "      <td>0.829599</td>\n",
       "      <td>-0.436450</td>\n",
       "    </tr>\n",
       "    <tr>\n",
       "      <th>2</th>\n",
       "      <td>-0.030694</td>\n",
       "      <td>-0.067862</td>\n",
       "      <td>-0.021213</td>\n",
       "      <td>-0.093506</td>\n",
       "      <td>-0.024397</td>\n",
       "      <td>-0.009282</td>\n",
       "      <td>0.030591</td>\n",
       "      <td>0.100229</td>\n",
       "      <td>0.829599</td>\n",
       "      <td>-0.436450</td>\n",
       "    </tr>\n",
       "    <tr>\n",
       "      <th>3</th>\n",
       "      <td>-0.030694</td>\n",
       "      <td>-0.067862</td>\n",
       "      <td>-0.021213</td>\n",
       "      <td>-0.093506</td>\n",
       "      <td>-0.024397</td>\n",
       "      <td>-0.009282</td>\n",
       "      <td>0.030591</td>\n",
       "      <td>0.100229</td>\n",
       "      <td>0.829599</td>\n",
       "      <td>-0.436450</td>\n",
       "    </tr>\n",
       "    <tr>\n",
       "      <th>4</th>\n",
       "      <td>-0.008780</td>\n",
       "      <td>-0.017401</td>\n",
       "      <td>-0.004326</td>\n",
       "      <td>-0.016692</td>\n",
       "      <td>-0.003143</td>\n",
       "      <td>-0.001121</td>\n",
       "      <td>0.003435</td>\n",
       "      <td>0.008508</td>\n",
       "      <td>0.018227</td>\n",
       "      <td>0.018138</td>\n",
       "    </tr>\n",
       "    <tr>\n",
       "      <th>...</th>\n",
       "      <td>...</td>\n",
       "      <td>...</td>\n",
       "      <td>...</td>\n",
       "      <td>...</td>\n",
       "      <td>...</td>\n",
       "      <td>...</td>\n",
       "      <td>...</td>\n",
       "      <td>...</td>\n",
       "      <td>...</td>\n",
       "      <td>...</td>\n",
       "    </tr>\n",
       "    <tr>\n",
       "      <th>362685</th>\n",
       "      <td>-0.026601</td>\n",
       "      <td>-0.057570</td>\n",
       "      <td>-0.017098</td>\n",
       "      <td>-0.072842</td>\n",
       "      <td>-0.017219</td>\n",
       "      <td>-0.006406</td>\n",
       "      <td>0.020568</td>\n",
       "      <td>0.060212</td>\n",
       "      <td>0.221570</td>\n",
       "      <td>0.800825</td>\n",
       "    </tr>\n",
       "    <tr>\n",
       "      <th>362686</th>\n",
       "      <td>-0.026601</td>\n",
       "      <td>-0.057570</td>\n",
       "      <td>-0.017098</td>\n",
       "      <td>-0.072842</td>\n",
       "      <td>-0.017219</td>\n",
       "      <td>-0.006406</td>\n",
       "      <td>0.020568</td>\n",
       "      <td>0.060212</td>\n",
       "      <td>0.221570</td>\n",
       "      <td>0.800825</td>\n",
       "    </tr>\n",
       "    <tr>\n",
       "      <th>362687</th>\n",
       "      <td>-0.049484</td>\n",
       "      <td>-0.121441</td>\n",
       "      <td>-0.052232</td>\n",
       "      <td>-0.311798</td>\n",
       "      <td>0.848116</td>\n",
       "      <td>0.085996</td>\n",
       "      <td>-0.150949</td>\n",
       "      <td>-0.156571</td>\n",
       "      <td>-0.143719</td>\n",
       "      <td>-0.090683</td>\n",
       "    </tr>\n",
       "    <tr>\n",
       "      <th>362688</th>\n",
       "      <td>-0.008909</td>\n",
       "      <td>-0.017668</td>\n",
       "      <td>-0.004397</td>\n",
       "      <td>-0.016975</td>\n",
       "      <td>-0.003200</td>\n",
       "      <td>-0.001141</td>\n",
       "      <td>0.003498</td>\n",
       "      <td>0.008669</td>\n",
       "      <td>0.018596</td>\n",
       "      <td>0.018531</td>\n",
       "    </tr>\n",
       "    <tr>\n",
       "      <th>362689</th>\n",
       "      <td>-0.049484</td>\n",
       "      <td>-0.121441</td>\n",
       "      <td>-0.052232</td>\n",
       "      <td>-0.311798</td>\n",
       "      <td>0.848116</td>\n",
       "      <td>0.085996</td>\n",
       "      <td>-0.150949</td>\n",
       "      <td>-0.156571</td>\n",
       "      <td>-0.143719</td>\n",
       "      <td>-0.090683</td>\n",
       "    </tr>\n",
       "  </tbody>\n",
       "</table>\n",
       "<p>362690 rows × 10 columns</p>\n",
       "</div>"
      ],
      "text/plain": [
       "        reduced_size1  reduced_size2  reduced_size3  reduced_size4   \n",
       "0           -0.030694      -0.067862      -0.021213      -0.093506  \\\n",
       "1           -0.030694      -0.067862      -0.021213      -0.093506   \n",
       "2           -0.030694      -0.067862      -0.021213      -0.093506   \n",
       "3           -0.030694      -0.067862      -0.021213      -0.093506   \n",
       "4           -0.008780      -0.017401      -0.004326      -0.016692   \n",
       "...               ...            ...            ...            ...   \n",
       "362685      -0.026601      -0.057570      -0.017098      -0.072842   \n",
       "362686      -0.026601      -0.057570      -0.017098      -0.072842   \n",
       "362687      -0.049484      -0.121441      -0.052232      -0.311798   \n",
       "362688      -0.008909      -0.017668      -0.004397      -0.016975   \n",
       "362689      -0.049484      -0.121441      -0.052232      -0.311798   \n",
       "\n",
       "        reduced_size5  reduced_size6  reduced_size7  reduced_size8   \n",
       "0           -0.024397      -0.009282       0.030591       0.100229  \\\n",
       "1           -0.024397      -0.009282       0.030591       0.100229   \n",
       "2           -0.024397      -0.009282       0.030591       0.100229   \n",
       "3           -0.024397      -0.009282       0.030591       0.100229   \n",
       "4           -0.003143      -0.001121       0.003435       0.008508   \n",
       "...               ...            ...            ...            ...   \n",
       "362685      -0.017219      -0.006406       0.020568       0.060212   \n",
       "362686      -0.017219      -0.006406       0.020568       0.060212   \n",
       "362687       0.848116       0.085996      -0.150949      -0.156571   \n",
       "362688      -0.003200      -0.001141       0.003498       0.008669   \n",
       "362689       0.848116       0.085996      -0.150949      -0.156571   \n",
       "\n",
       "        reduced_size9  reduced_size10  \n",
       "0            0.829599       -0.436450  \n",
       "1            0.829599       -0.436450  \n",
       "2            0.829599       -0.436450  \n",
       "3            0.829599       -0.436450  \n",
       "4            0.018227        0.018138  \n",
       "...               ...             ...  \n",
       "362685       0.221570        0.800825  \n",
       "362686       0.221570        0.800825  \n",
       "362687      -0.143719       -0.090683  \n",
       "362688       0.018596        0.018531  \n",
       "362689      -0.143719       -0.090683  \n",
       "\n",
       "[362690 rows x 10 columns]"
      ]
     },
     "execution_count": 336,
     "metadata": {},
     "output_type": "execute_result"
    }
   ],
   "source": [
    "df_reduced_features = pd.DataFrame(reduced_features)\n",
    "df_reduced_features.rename(columns={0: 'reduced_size1',\n",
    "                                    1: 'reduced_size2',\n",
    "                                    2: 'reduced_size3',\n",
    "                                    3: 'reduced_size4',\n",
    "                                    4: 'reduced_size5',\n",
    "                                    5: 'reduced_size6',\n",
    "                                    6: 'reduced_size7',\n",
    "                                    7: 'reduced_size8',\n",
    "                                    8: 'reduced_size9',\n",
    "                                    9: 'reduced_size10',}, inplace=True)\n",
    "df_reduced_features"
   ]
  },
  {
   "attachments": {},
   "cell_type": "markdown",
   "metadata": {},
   "source": [
    "### Разбить закодированный цвет на составляющие в разные столбцы"
   ]
  },
  {
   "cell_type": "code",
   "execution_count": 337,
   "metadata": {},
   "outputs": [],
   "source": [
    "df[['R', 'G', 'B']] = pd.DataFrame(df['color'].tolist(), index=df.index)\n",
    "df = df.drop('color', axis=1)"
   ]
  },
  {
   "attachments": {},
   "cell_type": "markdown",
   "metadata": {},
   "source": [
    "### Добавляем в основной датафрейм закодированные сжатые размеры"
   ]
  },
  {
   "cell_type": "code",
   "execution_count": 338,
   "metadata": {},
   "outputs": [],
   "source": [
    "# df = df.drop('size', axis=1)\n",
    "df = pd.concat([df, df_reduced_features], axis=1)"
   ]
  },
  {
   "cell_type": "code",
   "execution_count": 339,
   "metadata": {},
   "outputs": [
    {
     "data": {
      "text/html": [
       "<div>\n",
       "<style scoped>\n",
       "    .dataframe tbody tr th:only-of-type {\n",
       "        vertical-align: middle;\n",
       "    }\n",
       "\n",
       "    .dataframe tbody tr th {\n",
       "        vertical-align: top;\n",
       "    }\n",
       "\n",
       "    .dataframe thead th {\n",
       "        text-align: right;\n",
       "    }\n",
       "</style>\n",
       "<table border=\"1\" class=\"dataframe\">\n",
       "  <thead>\n",
       "    <tr style=\"text-align: right;\">\n",
       "      <th>itemID</th>\n",
       "      <th>1</th>\n",
       "      <th>2</th>\n",
       "      <th>3</th>\n",
       "      <th>4</th>\n",
       "      <th>5</th>\n",
       "      <th>6</th>\n",
       "      <th>7</th>\n",
       "      <th>8</th>\n",
       "      <th>9</th>\n",
       "      <th>10</th>\n",
       "      <th>...</th>\n",
       "      <th>3060</th>\n",
       "      <th>3061</th>\n",
       "      <th>3062</th>\n",
       "      <th>3064</th>\n",
       "      <th>3065</th>\n",
       "      <th>3066</th>\n",
       "      <th>3067</th>\n",
       "      <th>3068</th>\n",
       "      <th>3069</th>\n",
       "      <th>3070</th>\n",
       "    </tr>\n",
       "    <tr>\n",
       "      <th>orderItemID</th>\n",
       "      <th></th>\n",
       "      <th></th>\n",
       "      <th></th>\n",
       "      <th></th>\n",
       "      <th></th>\n",
       "      <th></th>\n",
       "      <th></th>\n",
       "      <th></th>\n",
       "      <th></th>\n",
       "      <th></th>\n",
       "      <th></th>\n",
       "      <th></th>\n",
       "      <th></th>\n",
       "      <th></th>\n",
       "      <th></th>\n",
       "      <th></th>\n",
       "      <th></th>\n",
       "      <th></th>\n",
       "      <th></th>\n",
       "      <th></th>\n",
       "      <th></th>\n",
       "    </tr>\n",
       "  </thead>\n",
       "  <tbody>\n",
       "  </tbody>\n",
       "</table>\n",
       "<p>0 rows × 2826 columns</p>\n",
       "</div>"
      ],
      "text/plain": [
       "Empty DataFrame\n",
       "Columns: [1, 2, 3, 4, 5, 6, 7, 8, 9, 10, 11, 12, 13, 14, 15, 16, 17, 18, 19, 20, 21, 22, 23, 24, 25, 26, 27, 28, 30, 31, 32, 33, 34, 35, 36, 37, 38, 39, 40, 41, 42, 43, 44, 45, 46, 47, 48, 49, 50, 51, 52, 53, 54, 55, 56, 57, 58, 59, 61, 62, 63, 64, 65, 66, 67, 68, 69, 70, 71, 72, 73, 74, 75, 76, 77, 78, 79, 80, 81, 82, 83, 84, 85, 86, 87, 88, 89, 90, 91, 92, 93, 94, 95, 96, 97, 98, 99, 100, 101, 102, ...]\n",
       "Index: []\n",
       "\n",
       "[0 rows x 2826 columns]"
      ]
     },
     "execution_count": 339,
     "metadata": {},
     "output_type": "execute_result"
    }
   ],
   "source": [
    "df.groupby('orderItemID')['itemID'].value_counts().unstack().dropna(thresh=2)\n",
    "# В каждом id заказа только 1 товар"
   ]
  },
  {
   "attachments": {},
   "cell_type": "markdown",
   "metadata": {},
   "source": [
    "Нормализовать возраст человека. Распределён нормально."
   ]
  },
  {
   "cell_type": "code",
   "execution_count": 340,
   "metadata": {},
   "outputs": [],
   "source": [
    "standart_scaler = StandardScaler()\n",
    "minmax_scaler = MinMaxScaler()\n",
    "df['ageHuman'] = standart_scaler.fit_transform(df[['ageHuman']])\n",
    "df['ageAccount'] = minmax_scaler.fit_transform(df[['ageAccount']])"
   ]
  },
  {
   "cell_type": "code",
   "execution_count": 341,
   "metadata": {},
   "outputs": [],
   "source": [
    "df = df.drop('orderItemID', axis=1)"
   ]
  },
  {
   "attachments": {},
   "cell_type": "markdown",
   "metadata": {},
   "source": [
    "### OneHot State"
   ]
  },
  {
   "cell_type": "code",
   "execution_count": 345,
   "metadata": {},
   "outputs": [],
   "source": [
    "df = pd.concat([df, pd.get_dummies(df['state'], dtype=float)], axis=1)"
   ]
  },
  {
   "cell_type": "code",
   "execution_count": 346,
   "metadata": {},
   "outputs": [
    {
     "data": {
      "text/html": [
       "<div>\n",
       "<style scoped>\n",
       "    .dataframe tbody tr th:only-of-type {\n",
       "        vertical-align: middle;\n",
       "    }\n",
       "\n",
       "    .dataframe tbody tr th {\n",
       "        vertical-align: top;\n",
       "    }\n",
       "\n",
       "    .dataframe thead th {\n",
       "        text-align: right;\n",
       "    }\n",
       "</style>\n",
       "<table border=\"1\" class=\"dataframe\">\n",
       "  <thead>\n",
       "    <tr style=\"text-align: right;\">\n",
       "      <th></th>\n",
       "      <th>orderDate</th>\n",
       "      <th>deliveryDate</th>\n",
       "      <th>itemID</th>\n",
       "      <th>size</th>\n",
       "      <th>manufacturerID</th>\n",
       "      <th>price</th>\n",
       "      <th>customerID</th>\n",
       "      <th>salutation</th>\n",
       "      <th>dateOfBirth</th>\n",
       "      <th>state</th>\n",
       "      <th>...</th>\n",
       "      <th>Hesse</th>\n",
       "      <th>Lower Saxony</th>\n",
       "      <th>Mecklenburg-Western Pomerania</th>\n",
       "      <th>North Rhine-Westphalia</th>\n",
       "      <th>Rhineland-Palatinate</th>\n",
       "      <th>Saarland</th>\n",
       "      <th>Saxony</th>\n",
       "      <th>Saxony-Anhalt</th>\n",
       "      <th>Schleswig-Holstein</th>\n",
       "      <th>Thuringia</th>\n",
       "    </tr>\n",
       "  </thead>\n",
       "  <tbody>\n",
       "    <tr>\n",
       "      <th>0</th>\n",
       "      <td>2012-06-19</td>\n",
       "      <td>2012-06-21</td>\n",
       "      <td>182</td>\n",
       "      <td>38</td>\n",
       "      <td>17</td>\n",
       "      <td>109.9</td>\n",
       "      <td>21163</td>\n",
       "      <td>Mrs</td>\n",
       "      <td>1967-03-25</td>\n",
       "      <td>Baden-Wuerttemberg</td>\n",
       "      <td>...</td>\n",
       "      <td>0.0</td>\n",
       "      <td>0.0</td>\n",
       "      <td>0.0</td>\n",
       "      <td>0.0</td>\n",
       "      <td>0.0</td>\n",
       "      <td>0.0</td>\n",
       "      <td>0.0</td>\n",
       "      <td>0.0</td>\n",
       "      <td>0.0</td>\n",
       "      <td>0.0</td>\n",
       "    </tr>\n",
       "    <tr>\n",
       "      <th>1</th>\n",
       "      <td>2012-06-19</td>\n",
       "      <td>2012-06-21</td>\n",
       "      <td>557</td>\n",
       "      <td>38</td>\n",
       "      <td>1</td>\n",
       "      <td>129.9</td>\n",
       "      <td>21163</td>\n",
       "      <td>Mrs</td>\n",
       "      <td>1967-03-25</td>\n",
       "      <td>Baden-Wuerttemberg</td>\n",
       "      <td>...</td>\n",
       "      <td>0.0</td>\n",
       "      <td>0.0</td>\n",
       "      <td>0.0</td>\n",
       "      <td>0.0</td>\n",
       "      <td>0.0</td>\n",
       "      <td>0.0</td>\n",
       "      <td>0.0</td>\n",
       "      <td>0.0</td>\n",
       "      <td>0.0</td>\n",
       "      <td>0.0</td>\n",
       "    </tr>\n",
       "    <tr>\n",
       "      <th>2</th>\n",
       "      <td>2012-06-19</td>\n",
       "      <td>2012-06-21</td>\n",
       "      <td>90</td>\n",
       "      <td>38</td>\n",
       "      <td>24</td>\n",
       "      <td>69.9</td>\n",
       "      <td>21163</td>\n",
       "      <td>Mrs</td>\n",
       "      <td>1967-03-25</td>\n",
       "      <td>Baden-Wuerttemberg</td>\n",
       "      <td>...</td>\n",
       "      <td>0.0</td>\n",
       "      <td>0.0</td>\n",
       "      <td>0.0</td>\n",
       "      <td>0.0</td>\n",
       "      <td>0.0</td>\n",
       "      <td>0.0</td>\n",
       "      <td>0.0</td>\n",
       "      <td>0.0</td>\n",
       "      <td>0.0</td>\n",
       "      <td>0.0</td>\n",
       "    </tr>\n",
       "    <tr>\n",
       "      <th>3</th>\n",
       "      <td>2012-06-19</td>\n",
       "      <td>2012-06-21</td>\n",
       "      <td>1</td>\n",
       "      <td>38</td>\n",
       "      <td>1</td>\n",
       "      <td>119.9</td>\n",
       "      <td>21163</td>\n",
       "      <td>Mrs</td>\n",
       "      <td>1967-03-25</td>\n",
       "      <td>Baden-Wuerttemberg</td>\n",
       "      <td>...</td>\n",
       "      <td>0.0</td>\n",
       "      <td>0.0</td>\n",
       "      <td>0.0</td>\n",
       "      <td>0.0</td>\n",
       "      <td>0.0</td>\n",
       "      <td>0.0</td>\n",
       "      <td>0.0</td>\n",
       "      <td>0.0</td>\n",
       "      <td>0.0</td>\n",
       "      <td>0.0</td>\n",
       "    </tr>\n",
       "    <tr>\n",
       "      <th>4</th>\n",
       "      <td>2012-06-19</td>\n",
       "      <td>2012-06-21</td>\n",
       "      <td>1</td>\n",
       "      <td>37+</td>\n",
       "      <td>1</td>\n",
       "      <td>119.9</td>\n",
       "      <td>21163</td>\n",
       "      <td>Mrs</td>\n",
       "      <td>1967-03-25</td>\n",
       "      <td>Baden-Wuerttemberg</td>\n",
       "      <td>...</td>\n",
       "      <td>0.0</td>\n",
       "      <td>0.0</td>\n",
       "      <td>0.0</td>\n",
       "      <td>0.0</td>\n",
       "      <td>0.0</td>\n",
       "      <td>0.0</td>\n",
       "      <td>0.0</td>\n",
       "      <td>0.0</td>\n",
       "      <td>0.0</td>\n",
       "      <td>0.0</td>\n",
       "    </tr>\n",
       "  </tbody>\n",
       "</table>\n",
       "<p>5 rows × 43 columns</p>\n",
       "</div>"
      ],
      "text/plain": [
       "   orderDate deliveryDate  itemID size  manufacturerID  price  customerID   \n",
       "0 2012-06-19   2012-06-21     182   38              17  109.9       21163  \\\n",
       "1 2012-06-19   2012-06-21     557   38               1  129.9       21163   \n",
       "2 2012-06-19   2012-06-21      90   38              24   69.9       21163   \n",
       "3 2012-06-19   2012-06-21       1   38               1  119.9       21163   \n",
       "4 2012-06-19   2012-06-21       1  37+               1  119.9       21163   \n",
       "\n",
       "  salutation dateOfBirth               state  ... Hesse  Lower Saxony   \n",
       "0        Mrs  1967-03-25  Baden-Wuerttemberg  ...   0.0           0.0  \\\n",
       "1        Mrs  1967-03-25  Baden-Wuerttemberg  ...   0.0           0.0   \n",
       "2        Mrs  1967-03-25  Baden-Wuerttemberg  ...   0.0           0.0   \n",
       "3        Mrs  1967-03-25  Baden-Wuerttemberg  ...   0.0           0.0   \n",
       "4        Mrs  1967-03-25  Baden-Wuerttemberg  ...   0.0           0.0   \n",
       "\n",
       "   Mecklenburg-Western Pomerania  North Rhine-Westphalia   \n",
       "0                            0.0                     0.0  \\\n",
       "1                            0.0                     0.0   \n",
       "2                            0.0                     0.0   \n",
       "3                            0.0                     0.0   \n",
       "4                            0.0                     0.0   \n",
       "\n",
       "   Rhineland-Palatinate  Saarland  Saxony  Saxony-Anhalt  Schleswig-Holstein   \n",
       "0                   0.0       0.0     0.0            0.0                 0.0  \\\n",
       "1                   0.0       0.0     0.0            0.0                 0.0   \n",
       "2                   0.0       0.0     0.0            0.0                 0.0   \n",
       "3                   0.0       0.0     0.0            0.0                 0.0   \n",
       "4                   0.0       0.0     0.0            0.0                 0.0   \n",
       "\n",
       "   Thuringia  \n",
       "0        0.0  \n",
       "1        0.0  \n",
       "2        0.0  \n",
       "3        0.0  \n",
       "4        0.0  \n",
       "\n",
       "[5 rows x 43 columns]"
      ]
     },
     "execution_count": 346,
     "metadata": {},
     "output_type": "execute_result"
    }
   ],
   "source": [
    "df.head()"
   ]
  },
  {
   "attachments": {},
   "cell_type": "markdown",
   "metadata": {},
   "source": [
    "### Самый популярный товар у покупателя"
   ]
  },
  {
   "cell_type": "code",
   "execution_count": 382,
   "metadata": {},
   "outputs": [
    {
     "name": "stdout",
     "output_type": "stream",
     "text": [
      "        customerID  itemID  purchase_count  return_sum\n",
      "2                6    1404               2           2\n",
      "15               9    1613               1           0\n",
      "25              11     966               1           0\n",
      "28              13    1415               2           0\n",
      "34              15    1544               1           0\n",
      "...            ...     ...             ...         ...\n",
      "273607       86559      39               0           1\n",
      "273613       86604    2438               1           0\n",
      "273616       86606    2334               2           0\n",
      "273620       86609    2334               2           0\n",
      "273621       86610    2669               1           0\n",
      "\n",
      "[51657 rows x 4 columns]\n"
     ]
    }
   ],
   "source": [
    "# Подсчет числа покупок товара\n",
    "purchase_count = df.groupby(['customerID', 'itemID']).size().reset_index(name='purchase_count')\n",
    "\n",
    "# Подсчет суммы значений столбца \"returnShipment\"\n",
    "return_sum = df.groupby(['customerID', 'itemID'])['returnShipment'].sum().reset_index(name='return_sum')\n",
    "\n",
    "# Объединение данных по столбцам \"customerID\" и \"itemID\"\n",
    "result = pd.merge(purchase_count, return_sum, on=['customerID', 'itemID'], how='left')\n",
    "\n",
    "# Вычисление числа покупок товара путем вычитания суммы из подсчета\n",
    "result['purchase_count'] = result['purchase_count'] - result['return_sum']\n",
    "\n",
    "# Нахождение индексов строк с максимальными значениями \"purchase_count\" для каждой группы \"customerID\"\n",
    "max_indices = result.groupby('customerID')['purchase_count'].idxmax()\n",
    "\n",
    "# Получение строк с максимальными значениями \"purchase_count\" для каждого пользователя\n",
    "most_purchased_items = result.loc[max_indices]\n",
    "\n",
    "# Вывод результата\n",
    "print(most_purchased_items)\n"
   ]
  },
  {
   "cell_type": "code",
   "execution_count": null,
   "metadata": {},
   "outputs": [],
   "source": []
  }
 ],
 "metadata": {
  "kernelspec": {
   "display_name": ".venv",
   "language": "python",
   "name": "python3"
  },
  "language_info": {
   "codemirror_mode": {
    "name": "ipython",
    "version": 3
   },
   "file_extension": ".py",
   "mimetype": "text/x-python",
   "name": "python",
   "nbconvert_exporter": "python",
   "pygments_lexer": "ipython3",
   "version": "3.10.7"
  },
  "orig_nbformat": 4
 },
 "nbformat": 4,
 "nbformat_minor": 2
}
